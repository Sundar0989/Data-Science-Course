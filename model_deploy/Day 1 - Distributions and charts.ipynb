# %% [markdown]
# # Statistical Distributions Notebook
# This notebook provides an overview of major probability distributions in statistics with visualization examples.

# %% [markdown]
# ## 1. Import Required Libraries

# %%
import numpy as np
import matplotlib.pyplot as plt
from scipy import stats
import seaborn as sns

plt.style.use('seaborn')
sns.set(style="whitegrid")

# %% [markdown]
# ## 2. Continuous Distributions

# %% [markdown]
# ### 2.1 Normal (Gaussian) Distribution
# **Parameters**: μ (mean), σ (standard deviation)  
# **PDF**: $\frac{1}{\sigma\sqrt{2\pi}} e^{ -\frac{(x-\mu)^2}{2\sigma^2} }$

# %%
mu, sigma = 0, 1
x = np.linspace(mu - 4*sigma, mu + 4*sigma, 100)
plt.plot(x, stats.norm.pdf(x, mu, sigma))
plt.title('Normal Distribution')
plt.show()

# %% [markdown]
# ### 2.2 Uniform Distribution
# **Parameters**: a (lower bound), b (upper bound)

# %%
a, b = 0, 1
x = np.linspace(a - 1, b + 1, 100)
plt.plot(x, stats.uniform.pdf(x, a, b - a))
plt.title('Uniform Distribution')
plt.show()

# %% [markdown]
# ### 2.3 Exponential Distribution
# **Parameter**: λ (rate parameter)

# %%
lambda_ = 0.5
x = np.linspace(0, 10, 100)
plt.plot(x, stats.expon.pdf(x, scale=1/lambda_))
plt.title('Exponential Distribution')
plt.show()

# %% [markdown]
# ### 2.4 Beta Distribution
# **Parameters**: α, β > 0

# %%
alpha, beta = 2, 5
x = np.linspace(0, 1, 100)
plt.plot(x, stats.beta.pdf(x, alpha, beta))
plt.title('Beta Distribution')
plt.show()

# %% [markdown]
# ### 2.5 Gamma Distribution
# **Parameters**: k (shape), θ (scale)

# %%
k, theta = 2, 2
x = np.linspace(0, 20, 100)
plt.plot(x, stats.gamma.pdf(x, a=k, scale=theta))
plt.title('Gamma Distribution')
plt.show()

# %% [markdown]
# ## 3. Discrete Distributions

# %% [markdown]
# ### 3.1 Binomial Distribution
# **Parameters**: n (trials), p (success probability)

# %%
n, p = 10, 0.5
x = np.arange(0, n+1)
plt.stem(x, stats.binom.pmf(x, n, p))
plt.title('Binomial Distribution')
plt.show()

# %% [markdown]
# ### 3.2 Poisson Distribution
# **Parameter**: λ (event rate)

# %%
lambda_ = 4
x = np.arange(0, 20)
plt.stem(x, stats.poisson.pmf(x, lambda_))
plt.title('Poisson Distribution')
plt.show()

# %% [markdown]
# ### 3.3 Geometric Distribution
# **Parameter**: p (success probability)

# %%
p = 0.3
x = np.arange(1, 15)
plt.stem(x, stats.geom.pmf(x, p))
plt.title('Geometric Distribution')
plt.show()

# %% [markdown]
# ### 3.4 Negative Binomial Distribution
# **Parameters**: r (successes), p (success probability)

# %%
r, p = 5, 0.5
x = np.arange(r, r + 20)
plt.stem(x, stats.nbinom.pmf(x - r, r, p))
plt.title('Negative Binomial Distribution')
plt.show()

# %% [markdown]
# ## 4. Other Important Distributions

# %% [markdown]
# ### 4.1 Student's t-Distribution
# **Parameter**: ν (degrees of freedom)

# %%
df = 5
x = np.linspace(-4, 4, 100)
plt.plot(x, stats.t.pdf(x, df))
plt.title("Student's t-Distribution")
plt.show()

# %% [markdown]
# ### 4.2 Chi-Squared Distribution
# **Parameter**: k (degrees of freedom)

# %%
k = 3
x = np.linspace(0, 20, 100)
plt.plot(x, stats.chi2.pdf(x, k))
plt.title('Chi-Squared Distribution')
plt.show()

# %% [markdown]
# ### 4.3 Logistic Distribution
# **Parameters**: μ (location), s (scale)

# %%
mu, s = 0, 1
x = np.linspace(-10, 10, 100)
plt.plot(x, stats.logistic.pdf(x, mu, s))
plt.title('Logistic Distribution')
plt.show()

# %% [markdown]
# ### 4.4 Lognormal Distribution
# **Parameters**: μ (mean), σ (std dev of log)

# %%
mu, sigma = 0, 1
x = np.linspace(0, 5, 100)
plt.plot(x, stats.lognorm.pdf(x, s=sigma, scale=np.exp(mu)))
plt.title('Lognormal Distribution')
plt.show()

# %% [markdown]
# ## 5. Distribution Comparison

# %%
x = np.linspace(-5, 5, 100)
distributions = {
    'Normal': stats.norm.pdf(x),
    'Laplace': stats.laplace.pdf(x),
    'Cauchy': stats.cauchy.pdf(x)
}

for name, pdf in distributions.items():
    plt.plot(x, pdf, label=name)

plt.legend()
plt.title('Distribution Comparison')
plt.show()

# %% [markdown]
# ## 6. Key Takeaways
# - Different distributions model different types of random phenomena
# - Parameters control distribution shape and properties
# - Choice of distribution depends on data characteristics and underlying process
# 
# **Next Steps**:
# - Explore multivariate distributions
# - Learn about distribution fitting
# - Study relationships between distributions
