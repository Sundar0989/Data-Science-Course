{
 "cells": [
  {
   "cell_type": "code",
   "execution_count": null,
   "metadata": {},
   "outputs": [],
   "source": [
    "# Great Expectations library for Data quality"
   ]
  },
  {
   "cell_type": "code",
   "execution_count": 1,
   "metadata": {},
   "outputs": [],
   "source": [
    "import pandas as pd\n",
    "import numpy as np  \n",
    "\n",
    "# Load the data\n",
    "train = pd.read_csv('train.csv')\n",
    "test = pd.read_csv('test.csv')\n",
    "\n",
    "batch_parameters = {\"dataframe\": train}\n",
    "batch_parameters_test = {\"dataframe\": test} \n"
   ]
  },
  {
   "cell_type": "code",
   "execution_count": 2,
   "metadata": {},
   "outputs": [
    {
     "name": "stderr",
     "output_type": "stream",
     "text": [
      "/opt/anaconda3/lib/python3.12/site-packages/jupyter_client/session.py:203: DeprecationWarning: datetime.datetime.utcnow() is deprecated and scheduled for removal in a future version. Use timezone-aware objects to represent datetimes in UTC: datetime.datetime.now(datetime.UTC).\n",
      "  return datetime.utcnow().replace(tzinfo=utc)\n"
     ]
    }
   ],
   "source": [
    "import great_expectations as gx\n",
    "\n",
    "context = gx.get_context()\n",
    "\n",
    "data_source_name = \"my_data_source\"\n",
    "data_asset_name = \"my_dataframe_data_asset\"\n",
    "batch_definition_name = \"my_batch_definition\"\n",
    "\n",
    "# SETUP FOR THE EXAMPLE:\n",
    "data_source = context.data_sources.add_pandas(name=data_source_name)\n",
    "data_asset = data_source.add_dataframe_asset(name=data_asset_name)\n",
    "batch_definition = data_asset.add_batch_definition_whole_dataframe(batch_definition_name)"
   ]
  },
  {
   "cell_type": "code",
   "execution_count": 3,
   "metadata": {},
   "outputs": [
    {
     "name": "stderr",
     "output_type": "stream",
     "text": [
      "/opt/anaconda3/lib/python3.12/site-packages/jupyter_client/session.py:203: DeprecationWarning: datetime.datetime.utcnow() is deprecated and scheduled for removal in a future version. Use timezone-aware objects to represent datetimes in UTC: datetime.datetime.now(datetime.UTC).\n",
      "  return datetime.utcnow().replace(tzinfo=utc)\n"
     ]
    },
    {
     "data": {
      "application/vnd.jupyter.widget-view+json": {
       "model_id": "9fc36a2db99441f2bc543229365e2fa7",
       "version_major": 2,
       "version_minor": 0
      },
      "text/plain": [
       "Calculating Metrics:   0%|          | 0/10 [00:00<?, ?it/s]"
      ]
     },
     "metadata": {},
     "output_type": "display_data"
    },
    {
     "name": "stdout",
     "output_type": "stream",
     "text": [
      "{\n",
      "  \"success\": true,\n",
      "  \"expectation_config\": {\n",
      "    \"type\": \"expect_column_values_to_be_between\",\n",
      "    \"kwargs\": {\n",
      "      \"batch_id\": \"my_data_source-my_dataframe_data_asset\",\n",
      "      \"column\": \"Age\",\n",
      "      \"min_value\": 0.0,\n",
      "      \"max_value\": 80.0\n",
      "    },\n",
      "    \"meta\": {}\n",
      "  },\n",
      "  \"result\": {\n",
      "    \"element_count\": 891,\n",
      "    \"unexpected_count\": 0,\n",
      "    \"unexpected_percent\": 0.0,\n",
      "    \"partial_unexpected_list\": [],\n",
      "    \"missing_count\": 177,\n",
      "    \"missing_percent\": 19.865319865319865,\n",
      "    \"unexpected_percent_total\": 0.0,\n",
      "    \"unexpected_percent_nonmissing\": 0.0,\n",
      "    \"partial_unexpected_counts\": [],\n",
      "    \"partial_unexpected_index_list\": []\n",
      "  },\n",
      "  \"meta\": {},\n",
      "  \"exception_info\": {\n",
      "    \"raised_exception\": false,\n",
      "    \"exception_traceback\": null,\n",
      "    \"exception_message\": null\n",
      "  }\n",
      "}\n"
     ]
    },
    {
     "name": "stderr",
     "output_type": "stream",
     "text": [
      "/opt/anaconda3/lib/python3.12/site-packages/jupyter_client/session.py:203: DeprecationWarning: datetime.datetime.utcnow() is deprecated and scheduled for removal in a future version. Use timezone-aware objects to represent datetimes in UTC: datetime.datetime.now(datetime.UTC).\n",
      "  return datetime.utcnow().replace(tzinfo=utc)\n"
     ]
    }
   ],
   "source": [
    "# Retrieve the dataframe Batch Definition\n",
    "batch_definition = (\n",
    "    context.data_sources.get(data_source_name)\n",
    "    .get_asset(data_asset_name)\n",
    "    .get_batch_definition(batch_definition_name)\n",
    ")\n",
    "\n",
    "# Create an Expectation to test\n",
    "expectation = gx.expectations.ExpectColumnValuesToBeBetween(\n",
    "    column=\"Age\", max_value=80, min_value=0\n",
    ")\n",
    "\n",
    "# Get the dataframe as a Batch\n",
    "batch = batch_definition.get_batch(batch_parameters=batch_parameters)\n",
    "\n",
    "# Test the Expectation\n",
    "validation_results = batch.validate(expectation)\n",
    "print(validation_results)"
   ]
  },
  {
   "cell_type": "code",
   "execution_count": 4,
   "metadata": {},
   "outputs": [],
   "source": [
    "# Create a expectation suite\n",
    "\n",
    "suite_name = \"my_expectation_suite\"\n",
    "suite = gx.ExpectationSuite(name=suite_name)"
   ]
  },
  {
   "cell_type": "code",
   "execution_count": 5,
   "metadata": {},
   "outputs": [
    {
     "data": {
      "text/plain": [
       "ExpectColumnValuesToBeBetween(id='a3a3ae9a-13e9-4c84-9703-4615b35bc8df', meta=None, notes=None, result_format=<ResultFormat.BASIC: 'BASIC'>, description=None, catch_exceptions=True, rendered_content=None, windows=None, batch_id=None, column='Age', mostly=1, row_condition=None, condition_parser=None, min_value=0.0, max_value=80.0, strict_min=False, strict_max=False)"
      ]
     },
     "execution_count": 5,
     "metadata": {},
     "output_type": "execute_result"
    }
   ],
   "source": [
    "suite = context.suites.add(suite)\n",
    "\n",
    "# Add the expectation to the suite\n",
    "suite.add_expectation(expectation)"
   ]
  },
  {
   "cell_type": "code",
   "execution_count": 6,
   "metadata": {},
   "outputs": [],
   "source": [
    "expectation_column_match = gx.expectations.ExpectTableColumnsToMatchSet(column_set=['PassengerId', 'Survived', 'Pclass', 'Name', 'Sex', 'Age', 'SibSp',\n",
    "       'Parch', 'Ticket', 'Fare', 'Cabin', 'Embarked'], exact_match=True)"
   ]
  },
  {
   "cell_type": "code",
   "execution_count": 7,
   "metadata": {},
   "outputs": [
    {
     "data": {
      "text/plain": [
       "ExpectTableColumnsToMatchSet(id='3564ec35-707d-42ef-8221-3ca87ca0ba69', meta=None, notes=None, result_format=<ResultFormat.BASIC: 'BASIC'>, description=None, catch_exceptions=False, rendered_content=None, windows=None, batch_id=None, column_set=['PassengerId', 'Survived', 'Pclass', 'Name', 'Sex', 'Age', 'SibSp', 'Parch', 'Ticket', 'Fare', 'Cabin', 'Embarked'], exact_match=True)"
      ]
     },
     "execution_count": 7,
     "metadata": {},
     "output_type": "execute_result"
    }
   ],
   "source": [
    "suite.add_expectation(expectation_column_match)"
   ]
  },
  {
   "cell_type": "code",
   "execution_count": 8,
   "metadata": {},
   "outputs": [
    {
     "data": {
      "text/plain": [
       "{\n",
       "  \"name\": \"my_expectation_suite\",\n",
       "  \"id\": \"64559aff-4810-4a40-8624-7e62ac0c48c6\",\n",
       "  \"expectations\": [\n",
       "    {\n",
       "      \"type\": \"expect_column_values_to_be_between\",\n",
       "      \"kwargs\": {\n",
       "        \"column\": \"Age\",\n",
       "        \"min_value\": 0.0,\n",
       "        \"max_value\": 80.0\n",
       "      },\n",
       "      \"meta\": {},\n",
       "      \"id\": \"a3a3ae9a-13e9-4c84-9703-4615b35bc8df\"\n",
       "    },\n",
       "    {\n",
       "      \"type\": \"expect_table_columns_to_match_set\",\n",
       "      \"kwargs\": {\n",
       "        \"column_set\": [\n",
       "          \"PassengerId\",\n",
       "          \"Survived\",\n",
       "          \"Pclass\",\n",
       "          \"Name\",\n",
       "          \"Sex\",\n",
       "          \"Age\",\n",
       "          \"SibSp\",\n",
       "          \"Parch\",\n",
       "          \"Ticket\",\n",
       "          \"Fare\",\n",
       "          \"Cabin\",\n",
       "          \"Embarked\"\n",
       "        ]\n",
       "      },\n",
       "      \"meta\": {},\n",
       "      \"id\": \"3564ec35-707d-42ef-8221-3ca87ca0ba69\"\n",
       "    }\n",
       "  ],\n",
       "  \"meta\": {\n",
       "    \"great_expectations_version\": \"1.3.7\"\n",
       "  },\n",
       "  \"notes\": null\n",
       "}"
      ]
     },
     "execution_count": 8,
     "metadata": {},
     "output_type": "execute_result"
    }
   ],
   "source": [
    "suite"
   ]
  },
  {
   "cell_type": "code",
   "execution_count": 9,
   "metadata": {},
   "outputs": [],
   "source": [
    "# Validation definition\n",
    "definition_name = \"my_validation_definition\"\n",
    "validation_definition = gx.ValidationDefinition(\n",
    "    data=batch_definition, suite=suite, name=definition_name\n",
    ")"
   ]
  },
  {
   "cell_type": "code",
   "execution_count": 10,
   "metadata": {},
   "outputs": [],
   "source": [
    "# save the validation definition to the context\n",
    "validation_definition = context.validation_definitions.add(validation_definition)"
   ]
  },
  {
   "cell_type": "code",
   "execution_count": 11,
   "metadata": {},
   "outputs": [
    {
     "name": "stderr",
     "output_type": "stream",
     "text": [
      "/opt/anaconda3/lib/python3.12/site-packages/jupyter_client/session.py:203: DeprecationWarning: datetime.datetime.utcnow() is deprecated and scheduled for removal in a future version. Use timezone-aware objects to represent datetimes in UTC: datetime.datetime.now(datetime.UTC).\n",
      "  return datetime.utcnow().replace(tzinfo=utc)\n"
     ]
    },
    {
     "data": {
      "application/vnd.jupyter.widget-view+json": {
       "model_id": "eb50c8efa72b41248641697d07e7e73b",
       "version_major": 2,
       "version_minor": 0
      },
      "text/plain": [
       "Calculating Metrics:   0%|          | 0/10 [00:00<?, ?it/s]"
      ]
     },
     "metadata": {},
     "output_type": "display_data"
    },
    {
     "name": "stderr",
     "output_type": "stream",
     "text": [
      "/opt/anaconda3/lib/python3.12/site-packages/jupyter_client/session.py:203: DeprecationWarning: datetime.datetime.utcnow() is deprecated and scheduled for removal in a future version. Use timezone-aware objects to represent datetimes in UTC: datetime.datetime.now(datetime.UTC).\n",
      "  return datetime.utcnow().replace(tzinfo=utc)\n"
     ]
    }
   ],
   "source": [
    "validation_results = validation_definition.run(batch_parameters=batch_parameters)"
   ]
  },
  {
   "cell_type": "code",
   "execution_count": 12,
   "metadata": {},
   "outputs": [
    {
     "data": {
      "text/plain": [
       "{\n",
       "  \"success\": true,\n",
       "  \"results\": [\n",
       "    {\n",
       "      \"success\": true,\n",
       "      \"expectation_config\": {\n",
       "        \"type\": \"expect_column_values_to_be_between\",\n",
       "        \"kwargs\": {\n",
       "          \"batch_id\": \"my_data_source-my_dataframe_data_asset\",\n",
       "          \"column\": \"Age\",\n",
       "          \"min_value\": 0.0,\n",
       "          \"max_value\": 80.0\n",
       "        },\n",
       "        \"meta\": {},\n",
       "        \"id\": \"a3a3ae9a-13e9-4c84-9703-4615b35bc8df\"\n",
       "      },\n",
       "      \"result\": {\n",
       "        \"element_count\": 891,\n",
       "        \"unexpected_count\": 0,\n",
       "        \"unexpected_percent\": 0.0,\n",
       "        \"partial_unexpected_list\": [],\n",
       "        \"missing_count\": 177,\n",
       "        \"missing_percent\": 19.865319865319865,\n",
       "        \"unexpected_percent_total\": 0.0,\n",
       "        \"unexpected_percent_nonmissing\": 0.0,\n",
       "        \"partial_unexpected_counts\": [],\n",
       "        \"partial_unexpected_index_list\": []\n",
       "      },\n",
       "      \"meta\": {},\n",
       "      \"exception_info\": {\n",
       "        \"raised_exception\": false,\n",
       "        \"exception_traceback\": null,\n",
       "        \"exception_message\": null\n",
       "      }\n",
       "    },\n",
       "    {\n",
       "      \"success\": true,\n",
       "      \"expectation_config\": {\n",
       "        \"type\": \"expect_table_columns_to_match_set\",\n",
       "        \"kwargs\": {\n",
       "          \"batch_id\": \"my_data_source-my_dataframe_data_asset\",\n",
       "          \"column_set\": [\n",
       "            \"PassengerId\",\n",
       "            \"Survived\",\n",
       "            \"Pclass\",\n",
       "            \"Name\",\n",
       "            \"Sex\",\n",
       "            \"Age\",\n",
       "            \"SibSp\",\n",
       "            \"Parch\",\n",
       "            \"Ticket\",\n",
       "            \"Fare\",\n",
       "            \"Cabin\",\n",
       "            \"Embarked\"\n",
       "          ]\n",
       "        },\n",
       "        \"meta\": {},\n",
       "        \"id\": \"3564ec35-707d-42ef-8221-3ca87ca0ba69\"\n",
       "      },\n",
       "      \"result\": {\n",
       "        \"observed_value\": [\n",
       "          \"PassengerId\",\n",
       "          \"Survived\",\n",
       "          \"Pclass\",\n",
       "          \"Name\",\n",
       "          \"Sex\",\n",
       "          \"Age\",\n",
       "          \"SibSp\",\n",
       "          \"Parch\",\n",
       "          \"Ticket\",\n",
       "          \"Fare\",\n",
       "          \"Cabin\",\n",
       "          \"Embarked\"\n",
       "        ]\n",
       "      },\n",
       "      \"meta\": {},\n",
       "      \"exception_info\": {\n",
       "        \"raised_exception\": false,\n",
       "        \"exception_traceback\": null,\n",
       "        \"exception_message\": null\n",
       "      }\n",
       "    }\n",
       "  ],\n",
       "  \"suite_name\": \"my_expectation_suite\",\n",
       "  \"suite_parameters\": {},\n",
       "  \"statistics\": {\n",
       "    \"evaluated_expectations\": 2,\n",
       "    \"successful_expectations\": 2,\n",
       "    \"unsuccessful_expectations\": 0,\n",
       "    \"success_percent\": 100.0\n",
       "  },\n",
       "  \"meta\": {\n",
       "    \"great_expectations_version\": \"1.3.7\",\n",
       "    \"batch_spec\": {\n",
       "      \"batch_data\": \"PandasDataFrame\"\n",
       "    },\n",
       "    \"batch_markers\": {\n",
       "      \"ge_load_time\": \"20250228T012445.058542Z\",\n",
       "      \"pandas_data_fingerprint\": \"9a4bcd798a058b35f2f8aeaeede9a159\"\n",
       "    },\n",
       "    \"active_batch_definition\": {\n",
       "      \"datasource_name\": \"my_data_source\",\n",
       "      \"data_connector_name\": \"fluent\",\n",
       "      \"data_asset_name\": \"my_dataframe_data_asset\",\n",
       "      \"batch_identifiers\": {\n",
       "        \"dataframe\": \"<DATAFRAME>\"\n",
       "      }\n",
       "    },\n",
       "    \"validation_id\": \"88de629b-00cb-4826-8469-fb24ac0caee5\",\n",
       "    \"checkpoint_id\": null,\n",
       "    \"run_id\": {\n",
       "      \"run_name\": null,\n",
       "      \"run_time\": \"2025-02-27T19:24:45.250367-06:00\"\n",
       "    },\n",
       "    \"validation_time\": \"2025-02-28T01:24:45.250367+00:00\",\n",
       "    \"batch_parameters\": {\n",
       "      \"dataframe\": \"<DATAFRAME>\"\n",
       "    }\n",
       "  },\n",
       "  \"id\": null\n",
       "}"
      ]
     },
     "execution_count": 12,
     "metadata": {},
     "output_type": "execute_result"
    }
   ],
   "source": [
    "# return the results for all expectations\n",
    "\n",
    "validation_results"
   ]
  },
  {
   "cell_type": "code",
   "execution_count": 13,
   "metadata": {},
   "outputs": [
    {
     "name": "stderr",
     "output_type": "stream",
     "text": [
      "/opt/anaconda3/lib/python3.12/site-packages/jupyter_client/session.py:203: DeprecationWarning: datetime.datetime.utcnow() is deprecated and scheduled for removal in a future version. Use timezone-aware objects to represent datetimes in UTC: datetime.datetime.now(datetime.UTC).\n",
      "  return datetime.utcnow().replace(tzinfo=utc)\n"
     ]
    },
    {
     "data": {
      "application/vnd.jupyter.widget-view+json": {
       "model_id": "81f235a249e845a499da5fe3d5086639",
       "version_major": 2,
       "version_minor": 0
      },
      "text/plain": [
       "Calculating Metrics:   0%|          | 0/10 [00:00<?, ?it/s]"
      ]
     },
     "metadata": {},
     "output_type": "display_data"
    },
    {
     "name": "stderr",
     "output_type": "stream",
     "text": [
      "/opt/anaconda3/lib/python3.12/site-packages/jupyter_client/session.py:203: DeprecationWarning: datetime.datetime.utcnow() is deprecated and scheduled for removal in a future version. Use timezone-aware objects to represent datetimes in UTC: datetime.datetime.now(datetime.UTC).\n",
      "  return datetime.utcnow().replace(tzinfo=utc)\n"
     ]
    }
   ],
   "source": [
    "validation_results = validation_definition.run(batch_parameters=batch_parameters_test)"
   ]
  },
  {
   "cell_type": "code",
   "execution_count": 14,
   "metadata": {},
   "outputs": [
    {
     "data": {
      "text/plain": [
       "{\n",
       "  \"success\": false,\n",
       "  \"results\": [\n",
       "    {\n",
       "      \"success\": true,\n",
       "      \"expectation_config\": {\n",
       "        \"type\": \"expect_column_values_to_be_between\",\n",
       "        \"kwargs\": {\n",
       "          \"batch_id\": \"my_data_source-my_dataframe_data_asset\",\n",
       "          \"column\": \"Age\",\n",
       "          \"min_value\": 0.0,\n",
       "          \"max_value\": 80.0\n",
       "        },\n",
       "        \"meta\": {},\n",
       "        \"id\": \"a3a3ae9a-13e9-4c84-9703-4615b35bc8df\"\n",
       "      },\n",
       "      \"result\": {\n",
       "        \"element_count\": 418,\n",
       "        \"unexpected_count\": 0,\n",
       "        \"unexpected_percent\": 0.0,\n",
       "        \"partial_unexpected_list\": [],\n",
       "        \"missing_count\": 86,\n",
       "        \"missing_percent\": 20.574162679425836,\n",
       "        \"unexpected_percent_total\": 0.0,\n",
       "        \"unexpected_percent_nonmissing\": 0.0,\n",
       "        \"partial_unexpected_counts\": [],\n",
       "        \"partial_unexpected_index_list\": []\n",
       "      },\n",
       "      \"meta\": {},\n",
       "      \"exception_info\": {\n",
       "        \"raised_exception\": false,\n",
       "        \"exception_traceback\": null,\n",
       "        \"exception_message\": null\n",
       "      }\n",
       "    },\n",
       "    {\n",
       "      \"success\": false,\n",
       "      \"expectation_config\": {\n",
       "        \"type\": \"expect_table_columns_to_match_set\",\n",
       "        \"kwargs\": {\n",
       "          \"batch_id\": \"my_data_source-my_dataframe_data_asset\",\n",
       "          \"column_set\": [\n",
       "            \"PassengerId\",\n",
       "            \"Survived\",\n",
       "            \"Pclass\",\n",
       "            \"Name\",\n",
       "            \"Sex\",\n",
       "            \"Age\",\n",
       "            \"SibSp\",\n",
       "            \"Parch\",\n",
       "            \"Ticket\",\n",
       "            \"Fare\",\n",
       "            \"Cabin\",\n",
       "            \"Embarked\"\n",
       "          ]\n",
       "        },\n",
       "        \"meta\": {},\n",
       "        \"id\": \"3564ec35-707d-42ef-8221-3ca87ca0ba69\"\n",
       "      },\n",
       "      \"result\": {\n",
       "        \"observed_value\": [\n",
       "          \"Age\",\n",
       "          \"Cabin\",\n",
       "          \"Embarked\",\n",
       "          \"Fare\",\n",
       "          \"Name\",\n",
       "          \"Parch\",\n",
       "          \"PassengerId\",\n",
       "          \"Pclass\",\n",
       "          \"Sex\",\n",
       "          \"SibSp\",\n",
       "          \"Ticket\"\n",
       "        ],\n",
       "        \"details\": {\n",
       "          \"mismatched\": {\n",
       "            \"missing\": [\n",
       "              \"Survived\"\n",
       "            ]\n",
       "          }\n",
       "        }\n",
       "      },\n",
       "      \"meta\": {},\n",
       "      \"exception_info\": {\n",
       "        \"raised_exception\": false,\n",
       "        \"exception_traceback\": null,\n",
       "        \"exception_message\": null\n",
       "      }\n",
       "    }\n",
       "  ],\n",
       "  \"suite_name\": \"my_expectation_suite\",\n",
       "  \"suite_parameters\": {},\n",
       "  \"statistics\": {\n",
       "    \"evaluated_expectations\": 2,\n",
       "    \"successful_expectations\": 1,\n",
       "    \"unsuccessful_expectations\": 1,\n",
       "    \"success_percent\": 50.0\n",
       "  },\n",
       "  \"meta\": {\n",
       "    \"great_expectations_version\": \"1.3.7\",\n",
       "    \"batch_spec\": {\n",
       "      \"batch_data\": \"PandasDataFrame\"\n",
       "    },\n",
       "    \"batch_markers\": {\n",
       "      \"ge_load_time\": \"20250228T012529.661205Z\",\n",
       "      \"pandas_data_fingerprint\": \"e78d5f60bd9db55f994a4e37dacfeee3\"\n",
       "    },\n",
       "    \"active_batch_definition\": {\n",
       "      \"datasource_name\": \"my_data_source\",\n",
       "      \"data_connector_name\": \"fluent\",\n",
       "      \"data_asset_name\": \"my_dataframe_data_asset\",\n",
       "      \"batch_identifiers\": {\n",
       "        \"dataframe\": \"<DATAFRAME>\"\n",
       "      }\n",
       "    },\n",
       "    \"validation_id\": \"88de629b-00cb-4826-8469-fb24ac0caee5\",\n",
       "    \"checkpoint_id\": null,\n",
       "    \"run_id\": {\n",
       "      \"run_name\": null,\n",
       "      \"run_time\": \"2025-02-27T19:25:29.706421-06:00\"\n",
       "    },\n",
       "    \"validation_time\": \"2025-02-28T01:25:29.706421+00:00\",\n",
       "    \"batch_parameters\": {\n",
       "      \"dataframe\": \"<DATAFRAME>\"\n",
       "    }\n",
       "  },\n",
       "  \"id\": null\n",
       "}"
      ]
     },
     "execution_count": 14,
     "metadata": {},
     "output_type": "execute_result"
    }
   ],
   "source": [
    "validation_results"
   ]
  }
 ],
 "metadata": {
  "kernelspec": {
   "display_name": "base",
   "language": "python",
   "name": "python3"
  },
  "language_info": {
   "codemirror_mode": {
    "name": "ipython",
    "version": 3
   },
   "file_extension": ".py",
   "mimetype": "text/x-python",
   "name": "python",
   "nbconvert_exporter": "python",
   "pygments_lexer": "ipython3",
   "version": "3.12.2"
  }
 },
 "nbformat": 4,
 "nbformat_minor": 2
}
